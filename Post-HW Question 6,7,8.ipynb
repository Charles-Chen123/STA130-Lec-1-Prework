{
 "cells": [
  {
   "cell_type": "markdown",
   "id": "c7dd3d67",
   "metadata": {},
   "source": [
    "1. \n",
    "\n",
    "Definition of summary statistics\n",
    "   Count: the total number of non-missing values in the dataset\n",
    "   Mean: the average of all the numeric numbers, calculated by summing all the values and then divide the count of the values.\n",
    "   Std(Standard Deviation): How the values vary around the mean of the values, involving some mathematical operations with only numeric values.\n",
    "   Min(minimum): the smallest value in the dataset,which only exists among numeric values.\n",
    "   25%:the value below the 25th percentile of all of the values in the dataset, which is only for numeric and ordered values.\n",
    "   50%(Median): the 50th percentile, the middle value in a numeric dataset. \n",
    "   75%:the the value below  the 50th percentile of all the values in the dataset, calculated by ordered, and numeric values. \n",
    "   Max(Maximum): the largest value in a numeric dataset. "
   ]
  },
  {
   "cell_type": "markdown",
   "id": "dc086ce5",
   "metadata": {},
   "source": [
    "\n"
   ]
  },
  {
   "cell_type": "code",
   "execution_count": 7,
   "id": "0418c8f3",
   "metadata": {},
   "outputs": [
    {
     "data": {
      "text/html": [
       "<div>\n",
       "<style scoped>\n",
       "    .dataframe tbody tr th:only-of-type {\n",
       "        vertical-align: middle;\n",
       "    }\n",
       "\n",
       "    .dataframe tbody tr th {\n",
       "        vertical-align: top;\n",
       "    }\n",
       "\n",
       "    .dataframe thead th {\n",
       "        text-align: right;\n",
       "    }\n",
       "</style>\n",
       "<table border=\"1\" class=\"dataframe\">\n",
       "  <thead>\n",
       "    <tr style=\"text-align: right;\">\n",
       "      <th></th>\n",
       "      <th>Condo name</th>\n",
       "      <th>price</th>\n",
       "    </tr>\n",
       "  </thead>\n",
       "  <tbody>\n",
       "    <tr>\n",
       "      <th>0</th>\n",
       "      <td>A Condo</td>\n",
       "      <td>100.0</td>\n",
       "    </tr>\n",
       "    <tr>\n",
       "      <th>2</th>\n",
       "      <td>C Condo</td>\n",
       "      <td>300.0</td>\n",
       "    </tr>\n",
       "  </tbody>\n",
       "</table>\n",
       "</div>"
      ],
      "text/plain": [
       "  Condo name  price\n",
       "0    A Condo  100.0\n",
       "2    C Condo  300.0"
      ]
     },
     "execution_count": 7,
     "metadata": {},
     "output_type": "execute_result"
    }
   ],
   "source": [
    "2.(1)\n",
    "\n",
    "import pandas as pd\n",
    "\n",
    "data={'Condo name': ['A Condo','B Condo','C Condo'],\n",
    "      'price': [100,None,300]}\n",
    "df = pd.DataFrame(data)\n",
    "\n",
    "# remove rows with missing value\n",
    "df.dropna()\n"
   ]
  },
  {
   "cell_type": "code",
   "execution_count": 18,
   "id": "9095d341",
   "metadata": {},
   "outputs": [],
   "source": [
    "2.(2)\n",
    "\n",
    "import pandas as pd \n",
    "\n",
    "data={'Condo name': ['A Condo', 'B Condo', 'C Condo','D Condo'],\n",
    "      'Price': [100,200,300,400],\n",
    "      'Location': ['Toronto', 'Ottawa', None, None]}\n",
    "df = pd.DataFrame(data)\n",
    " \n",
    "# remove the column with missing values\n",
    "del df['Location']"
   ]
  },
  {
   "cell_type": "code",
   "execution_count": 19,
   "id": "d6a761f6",
   "metadata": {},
   "outputs": [
    {
     "data": {
      "text/html": [
       "<div>\n",
       "<style scoped>\n",
       "    .dataframe tbody tr th:only-of-type {\n",
       "        vertical-align: middle;\n",
       "    }\n",
       "\n",
       "    .dataframe tbody tr th {\n",
       "        vertical-align: top;\n",
       "    }\n",
       "\n",
       "    .dataframe thead th {\n",
       "        text-align: right;\n",
       "    }\n",
       "</style>\n",
       "<table border=\"1\" class=\"dataframe\">\n",
       "  <thead>\n",
       "    <tr style=\"text-align: right;\">\n",
       "      <th></th>\n",
       "      <th>Condo name</th>\n",
       "      <th>Price</th>\n",
       "    </tr>\n",
       "  </thead>\n",
       "  <tbody>\n",
       "    <tr>\n",
       "      <th>0</th>\n",
       "      <td>A Condo</td>\n",
       "      <td>100</td>\n",
       "    </tr>\n",
       "    <tr>\n",
       "      <th>1</th>\n",
       "      <td>B Condo</td>\n",
       "      <td>200</td>\n",
       "    </tr>\n",
       "    <tr>\n",
       "      <th>2</th>\n",
       "      <td>C Condo</td>\n",
       "      <td>300</td>\n",
       "    </tr>\n",
       "    <tr>\n",
       "      <th>3</th>\n",
       "      <td>D Condo</td>\n",
       "      <td>400</td>\n",
       "    </tr>\n",
       "  </tbody>\n",
       "</table>\n",
       "</div>"
      ],
      "text/plain": [
       "  Condo name  Price\n",
       "0    A Condo    100\n",
       "1    B Condo    200\n",
       "2    C Condo    300\n",
       "3    D Condo    400"
      ]
     },
     "execution_count": 19,
     "metadata": {},
     "output_type": "execute_result"
    }
   ],
   "source": [
    "df"
   ]
  },
  {
   "cell_type": "markdown",
   "id": "2d069663",
   "metadata": {},
   "source": [
    "2.(3)\n",
    "   We need to apply both del df['col'] and df.dropna. In this case, if we apply df.dropna first, this will delete all rows in any volumns with missing values. The result is that we would lose some useful values in the volumns we want to retain.\n",
    "   However, when we apply del df['col'] first, the precondition to delete the volumn is that we are sure deleting the volumn will not affect the rows we want to retain. After that, then cleaning rows which could affect the volumn."
   ]
  },
  {
   "cell_type": "code",
   "execution_count": 20,
   "id": "eb6cdbb6",
   "metadata": {},
   "outputs": [],
   "source": [
    "2.(4)\n",
    "\n",
    "import pandas as pd \n",
    "\n",
    "data={'Condo name': ['A Condo', 'B Condo', 'C Condo','D Condo'],\n",
    "      'Price': [100,200,None,400],\n",
    "      'Location': ['Toronto', 'Ottawa', None, None]}\n",
    "df = pd.DataFrame(data)\n",
    " \n",
    "# remove the column with missing values\n",
    "del df['Location']"
   ]
  },
  {
   "cell_type": "code",
   "execution_count": 21,
   "id": "5d231fa8",
   "metadata": {},
   "outputs": [
    {
     "data": {
      "text/html": [
       "<div>\n",
       "<style scoped>\n",
       "    .dataframe tbody tr th:only-of-type {\n",
       "        vertical-align: middle;\n",
       "    }\n",
       "\n",
       "    .dataframe tbody tr th {\n",
       "        vertical-align: top;\n",
       "    }\n",
       "\n",
       "    .dataframe thead th {\n",
       "        text-align: right;\n",
       "    }\n",
       "</style>\n",
       "<table border=\"1\" class=\"dataframe\">\n",
       "  <thead>\n",
       "    <tr style=\"text-align: right;\">\n",
       "      <th></th>\n",
       "      <th>Condo name</th>\n",
       "      <th>Price</th>\n",
       "    </tr>\n",
       "  </thead>\n",
       "  <tbody>\n",
       "    <tr>\n",
       "      <th>0</th>\n",
       "      <td>A Condo</td>\n",
       "      <td>100.0</td>\n",
       "    </tr>\n",
       "    <tr>\n",
       "      <th>1</th>\n",
       "      <td>B Condo</td>\n",
       "      <td>200.0</td>\n",
       "    </tr>\n",
       "    <tr>\n",
       "      <th>2</th>\n",
       "      <td>C Condo</td>\n",
       "      <td>NaN</td>\n",
       "    </tr>\n",
       "    <tr>\n",
       "      <th>3</th>\n",
       "      <td>D Condo</td>\n",
       "      <td>400.0</td>\n",
       "    </tr>\n",
       "  </tbody>\n",
       "</table>\n",
       "</div>"
      ],
      "text/plain": [
       "  Condo name  Price\n",
       "0    A Condo  100.0\n",
       "1    B Condo  200.0\n",
       "2    C Condo    NaN\n",
       "3    D Condo  400.0"
      ]
     },
     "execution_count": 21,
     "metadata": {},
     "output_type": "execute_result"
    }
   ],
   "source": [
    "df"
   ]
  },
  {
   "cell_type": "code",
   "execution_count": 22,
   "id": "b3754d50",
   "metadata": {},
   "outputs": [
    {
     "data": {
      "text/html": [
       "<div>\n",
       "<style scoped>\n",
       "    .dataframe tbody tr th:only-of-type {\n",
       "        vertical-align: middle;\n",
       "    }\n",
       "\n",
       "    .dataframe tbody tr th {\n",
       "        vertical-align: top;\n",
       "    }\n",
       "\n",
       "    .dataframe thead th {\n",
       "        text-align: right;\n",
       "    }\n",
       "</style>\n",
       "<table border=\"1\" class=\"dataframe\">\n",
       "  <thead>\n",
       "    <tr style=\"text-align: right;\">\n",
       "      <th></th>\n",
       "      <th>Condo name</th>\n",
       "      <th>Price</th>\n",
       "    </tr>\n",
       "  </thead>\n",
       "  <tbody>\n",
       "    <tr>\n",
       "      <th>0</th>\n",
       "      <td>A Condo</td>\n",
       "      <td>100.0</td>\n",
       "    </tr>\n",
       "    <tr>\n",
       "      <th>1</th>\n",
       "      <td>B Condo</td>\n",
       "      <td>200.0</td>\n",
       "    </tr>\n",
       "    <tr>\n",
       "      <th>3</th>\n",
       "      <td>D Condo</td>\n",
       "      <td>400.0</td>\n",
       "    </tr>\n",
       "  </tbody>\n",
       "</table>\n",
       "</div>"
      ],
      "text/plain": [
       "  Condo name  Price\n",
       "0    A Condo  100.0\n",
       "1    B Condo  200.0\n",
       "3    D Condo  400.0"
      ]
     },
     "execution_count": 22,
     "metadata": {},
     "output_type": "execute_result"
    }
   ],
   "source": [
    "df.dropna()"
   ]
  },
  {
   "cell_type": "markdown",
   "id": "17ab467d",
   "metadata": {},
   "source": [
    "2.(4)\n",
    "\n",
    "Justification for my approach: Apply del.df['col'] before df.dropna()\n",
    "    If I apply df.dropna first, the rows for  'C Condo' and 'D Condo' will both be deleted first.And then, it will affect the column of 'Condo name'and 'Price' which I want to retain.The result is that it will delete the useful values for me, which are 'D Condo' and its 'Price'. \n",
    "    However, if I apply del.df[] first, I plan to delete the column'Location' as it has many missing values, so it will not affect necessarily the raws I want to keep. After that, I just need to apply df.dropna() to clean the dataset, only deleting one row for 'C Condo' instead of two rows including 'D Condo'."
   ]
  },
  {
   "cell_type": "markdown",
   "id": "cfc53bb2",
   "metadata": {},
   "source": [
    "3.1\n",
    "\n",
    "Demonstrate:\n",
    "Housing dataset(https://raw.githubusercontent.com/ageron/handson-ml/master/datasets/housing/housing.csv). In this dataset, col1 is \"longitude\" and col2 is \"latitude\", df.groupby(\"longitude\")[\"latitude\"].describe() would give the statistics about the latitude of houses at each longitude, including count, mean, std, min, 25%, 50%, 75%, and max.\n",
    "\n",
    "Explain: In this case, this expression df.groupby(\"col1\").[\"col\"].describe() is to group data by the column (longitude), and then provide the statistics for another column (latitude) within each group. The statistics include  count, mean, std, min, 25%, 50%, 75%, and max.\n"
   ]
  },
  {
   "cell_type": "markdown",
   "id": "546d2141",
   "metadata": {},
   "source": [
    "3.2\n",
    "\n",
    "Differences\n",
    "   the expression of df.describe() summarizes the column as a whole and reports counts for each column. Missing values are excluded without affecting the output.\n",
    "   the expression of df.groupby(\"col1\")[\"col2\").describe() breaks down the summary of column2 into groups. The groups are defined by column1, counting for each group. Missing values in column2 will affect the number of rows, affecting the groups. \n",
    "   "
   ]
  },
  {
   "cell_type": "code",
   "execution_count": null,
   "id": "1966c110",
   "metadata": {},
   "outputs": [],
   "source": []
  }
 ],
 "metadata": {
  "kernelspec": {
   "display_name": "Python 3 (ipykernel)",
   "language": "python",
   "name": "python3"
  },
  "language_info": {
   "codemirror_mode": {
    "name": "ipython",
    "version": 3
   },
   "file_extension": ".py",
   "mimetype": "text/x-python",
   "name": "python",
   "nbconvert_exporter": "python",
   "pygments_lexer": "ipython3",
   "version": "3.11.6"
  }
 },
 "nbformat": 4,
 "nbformat_minor": 5
}
